{
 "cells": [
  {
   "cell_type": "markdown",
   "metadata": {
    "colab_type": "text",
    "id": "1dyIBJ2HQHok"
   },
   "source": [
    "# Twitter Emotion Analysis using Machine Learning"
   ]
  },
  {
   "cell_type": "markdown",
   "metadata": {
    "colab_type": "text",
    "id": "K3Jl4RUqQPOY"
   },
   "source": [
    "## 1. Prerequisites"
   ]
  },
  {
   "cell_type": "markdown",
   "metadata": {
    "colab_type": "text",
    "id": "or2U_QQ_RRy6"
   },
   "source": [
    "Import required libraries."
   ]
  },
  {
   "cell_type": "code",
   "execution_count": 192,
   "metadata": {
    "colab": {},
    "colab_type": "code",
    "id": "FaidiTrkTjbs"
   },
   "outputs": [],
   "source": [
    "import os\n",
    "import re\n",
    "import numpy as np\n",
    "import pandas as pd\n",
    "import matplotlib.pyplot as plt\n",
    "from sklearn.ensemble import ExtraTreesClassifier\n",
    "from sklearn.feature_extraction.text import CountVectorizer\n",
    "from sklearn.preprocessing import LabelEncoder\n",
    "import operator\n",
    "import nltk\n",
    "from sklearn.feature_extraction.text import TfidfVectorizer\n"
   ]
  },
  {
   "cell_type": "markdown",
   "metadata": {
    "colab_type": "text",
    "id": "nrSrj7ZFQVRX"
   },
   "source": [
    "## 2. Read Data"
   ]
  },
  {
   "cell_type": "markdown",
   "metadata": {
    "colab_type": "text",
    "id": "bN_WDw71RU_l"
   },
   "source": [
    "Read tweet text data from 3 files train/validation/test into a list or dataframe. Also read the given labels for 11 emotions."
   ]
  },
  {
   "cell_type": "code",
   "execution_count": 220,
   "metadata": {
    "colab": {},
    "colab_type": "code",
    "id": "ojHTO6zbTkEI"
   },
   "outputs": [
    {
     "name": "stdout",
     "output_type": "stream",
     "text": [
      "        Tweet ID                                         Tweet Text  Joy  \\\n",
      "0  2017-En-21441  “Worry is a down payment on a problem you may ...    0   \n",
      "1  2017-En-31535  Whatever you decide to do make sure it makes y...    0   \n",
      "2  2017-En-21068  @Max_Kellerman  it also helps that the majorit...    1   \n",
      "3  2017-En-31436  Accept the challenges so that you can literall...    0   \n",
      "4  2017-En-22195  My roommate: it's okay that we can't spell bec...    1   \n",
      "\n",
      "   Sadness  anger  fear  Trust  Disgust  Surprise  Anticipation  optimism  \\\n",
      "0        1      0     0      0        0         1             0         0   \n",
      "1        0      0     0      1        1         1             0         0   \n",
      "2        0      1     0      1        0         1             0         0   \n",
      "3        0      0     0      1        0         1             0         0   \n",
      "4        0      1     0      0        0         0             0         0   \n",
      "\n",
      "   pessimism  love  \n",
      "0          0     1  \n",
      "1          0     0  \n",
      "2          0     0  \n",
      "3          0     0  \n",
      "4          0     0  \n",
      "(6838, 13)\n",
      "        Tweet ID                                         Tweet Text  Joy  \\\n",
      "0  2018-En-01559  @Adnan__786__ @AsYouNotWish Dont worry Indian ...    1   \n",
      "1  2018-En-03739  Academy of Sciences, eschews the normally sobe...    0   \n",
      "2  2018-En-00385                  I blew that opportunity -__- #mad    1   \n",
      "3  2018-En-03001             This time in 2 weeks I will be 30... 😥    0   \n",
      "4  2018-En-01988  #Deppression is real. Partners w/ #depressed p...    0   \n",
      "\n",
      "   Sadness  anger  fear  Trust  Disgust  Surprise  Anticipation  optimism  \\\n",
      "0        1      0     0      0        0         1             0         0   \n",
      "1        0      1     0      0        0         0             0         0   \n",
      "2        0      1     0      0        0         0             0         1   \n",
      "3        0      0     0      1        0         0             0         1   \n",
      "4        0      0     1      0        0         0             0         1   \n",
      "\n",
      "   pessimism  love  \n",
      "0          0     1  \n",
      "1          0     0  \n",
      "2          0     0  \n",
      "3          0     0  \n",
      "4          0     0  \n",
      "(3259, 13)\n",
      "        Tweet ID                                         Tweet Text  Joy  \\\n",
      "0  2018-En-00866  @RanaAyyub @rajnathsingh Oh, hidden revenge an...    1   \n",
      "1  2018-En-02590  I'm doing all this to make sure you smiling do...    0   \n",
      "2  2018-En-03361  if not then #teamchristine bc all tana has don...    1   \n",
      "3  2018-En-03230  It is a #great start for #beginners to jump in...    0   \n",
      "4  2018-En-01143  My best friends driving for the first time wit...    0   \n",
      "\n",
      "   Sadness  anger  fear  Trust  Disgust  Surprise  Anticipation  optimism  \\\n",
      "0        0      1     0      0        0         0             0         0   \n",
      "1        0      0     0      1        1         1             0         0   \n",
      "2        0      1     0      0        0         0             0         0   \n",
      "3        0      0     0      1        0         1             0         0   \n",
      "4        0      0     1      0        0         0             0         0   \n",
      "\n",
      "   pessimism  love  \n",
      "0          0     0  \n",
      "1          0     0  \n",
      "2          0     0  \n",
      "3          0     0  \n",
      "4          0     0  \n",
      "(886, 13)\n"
     ]
    }
   ],
   "source": [
    "#Read tweet data from convert to .csv file    \n",
    "Val_df = pd.read_csv('2018-E-c-En-dev.txt',delimiter=\"\\t\",header=None,names=[\"Tweet ID\",\"Tweet Text\",\"Joy\",\"Sadness\",\"anger\",\"fear\",\"Trust\",\"Disgust\",\"Surprise\",\"Anticipation\",\"optimism\",\"pessimism\",\"love\"])\n",
    "Val_df.to_csv('2018-E-c-En-dev.csv',index=None)\n",
    "\n",
    "test_df = pd.read_csv('2018-E-c-En-test-gold.txt',delimiter=\"\\t\",header=None,names=[\"Tweet ID\",\"Tweet Text\",\"Joy\",\"Sadness\",\"anger\",\"fear\",\"Trust\",\"Disgust\",\"Surprise\",\"Anticipation\",\"optimism\",\"pessimism\",\"love\"])\n",
    "test_df.to_csv('2018-E-c-En-test-gold.csv',index=None)\n",
    "\n",
    "train_df = pd.read_csv('2018-E-c-En-train.txt',delimiter=\"\\t\",header=None,names=[\"Tweet ID\",\"Tweet Text\",\"Joy\",\"Sadness\",\"anger\",\"fear\",\"Trust\",\"Disgust\",\"Surprise\",\"Anticipation\",\"optimism\",\"pessimism\",\"love\"])\n",
    "train_df.to_csv('2018-E-c-En-train.csv',index=None)\n",
    "\n",
    "train_df = pd.read_csv(\"2018-E-c-En-train.csv\")\n",
    "test_df = pd.read_csv(\"2018-E-c-En-test-gold.csv\")\n",
    "val_df = pd.read_csv(\"2018-E-c-En-dev.csv\")\n",
    "\n",
    "#print('Train data')\n",
    "print(train_df.head())\n",
    "print(train_df.shape)\n",
    "\n",
    "#print('Test Data')\n",
    "print(test_df.head())\n",
    "print(test_df.shape)\n",
    "\n",
    "#print('Validation Data')\n",
    "print(val_df.head())\n",
    "print(val_df.shape)\n",
    "\n",
    "\n",
    "\n",
    "\n"
   ]
  },
  {
   "cell_type": "markdown",
   "metadata": {
    "colab_type": "text",
    "id": "t_UscxF0QVda"
   },
   "source": [
    "## 3. Exploratory data analysis"
   ]
  },
  {
   "cell_type": "markdown",
   "metadata": {
    "colab_type": "text",
    "id": "v7obwzgDRjjz"
   },
   "source": [
    "Check data attributes such as length of tweets, distribution of each of 11 emotion labels etc."
   ]
  },
  {
   "cell_type": "code",
   "execution_count": 194,
   "metadata": {
    "colab": {},
    "colab_type": "code",
    "id": "5PndbjhCTkzZ"
   },
   "outputs": [
    {
     "name": "stdout",
     "output_type": "stream",
     "text": [
      "Length of tweets for train_df\n",
      "0       104\n",
      "1        56\n",
      "2       128\n",
      "3       109\n",
      "4        98\n",
      "       ... \n",
      "6833    116\n",
      "6834    140\n",
      "6835    140\n",
      "6836     65\n",
      "6837     48\n",
      "Name: Tweet Text, Length: 6838, dtype: int64\n",
      "\n",
      "\n",
      "\n",
      "Length of tweets for val_df\n",
      "0       92\n",
      "1       58\n",
      "2      135\n",
      "3      143\n",
      "4       73\n",
      "      ... \n",
      "881     93\n",
      "882     82\n",
      "883    138\n",
      "884    112\n",
      "885    136\n",
      "Name: Tweet Text, Length: 886, dtype: int64\n",
      "\n",
      "\n",
      "\n",
      "Length of tweets for test_df\n",
      "0       100\n",
      "1       139\n",
      "2        33\n",
      "3        38\n",
      "4       144\n",
      "       ... \n",
      "3254    110\n",
      "3255    131\n",
      "3256     43\n",
      "3257    106\n",
      "3258     83\n",
      "Name: Tweet Text, Length: 3259, dtype: int64\n"
     ]
    }
   ],
   "source": [
    "#Length of Tweets\n",
    "print(\"Length of tweets for train_df\") \n",
    "print(train_df['Tweet Text'].str.len())\n",
    "print(\"\\n\\n\")\n",
    "\n",
    "print(\"Length of tweets for val_df\")\n",
    "print(val_df['Tweet Text'].str.len())\n",
    "print(\"\\n\\n\")\n",
    "\n",
    "print(\"Length of tweets for test_df\") \n",
    "print(test_df['Tweet Text'].str.len())\n",
    "\n",
    "\n",
    "\n"
   ]
  },
  {
   "cell_type": "code",
   "execution_count": 228,
   "metadata": {},
   "outputs": [
    {
     "data": {
      "text/plain": [
       "<AxesSubplot:>"
      ]
     },
     "execution_count": 228,
     "metadata": {},
     "output_type": "execute_result"
    },
    {
     "data": {
      "image/png": "[encoded data removed]",
      "text/plain": [
       "<Figure size 720x576 with 1 Axes>"
      ]
     },
     "metadata": {
      "needs_background": "light"
     },
     "output_type": "display_data"
    }
   ],
   "source": [
    "#Distribution of each of 11 emotion labels(Train):\n",
    "Emotion_labels_train = train_df[[\"Joy\",\"Sadness\",\"anger\",\"fear\",\"Trust\",\"Disgust\",\"Surprise\",\"Anticipation\",\"optimism\",\"pessimism\",\"love\"]]\n",
    "Emotion_labels_train.head()\n",
    "\n",
    "fig_size = plt.rcParams[\"figure.figsize\"]\n",
    "fig_size[0] = 10\n",
    "fig_size[1] = 8\n",
    "plt.rcParams[\"figure.figsize\"] = fig_size\n",
    "\n",
    "Emotion_labels_train.sum(axis=0).plot.bar()"
   ]
  },
  {
   "cell_type": "code",
   "execution_count": 225,
   "metadata": {},
   "outputs": [
    {
     "data": {
      "text/plain": [
       "<AxesSubplot:>"
      ]
     },
     "execution_count": 225,
     "metadata": {},
     "output_type": "execute_result"
    },
    {
     "data": {
      "image/png": "[encoded data removed]",
      "text/plain": [
       "<Figure size 720x576 with 1 Axes>"
      ]
     },
     "metadata": {
      "needs_background": "light"
     },
     "output_type": "display_data"
    }
   ],
   "source": [
    "#Distribution of each of 11 emotion labels(test):\n",
    "Emotion_labels_test = test_df[[\"Joy\",\"Sadness\",\"anger\",\"fear\",\"Trust\",\"Disgust\",\"Surprise\",\"Anticipation\",\"optimism\",\"pessimism\",\"love\"]]\n",
    "Emotion_labels_test.head()\n",
    "\n",
    "fig_size = plt.rcParams[\"figure.figsize\"]\n",
    "fig_size[0] = 10\n",
    "fig_size[1] = 8\n",
    "plt.rcParams[\"figure.figsize\"] = fig_size\n",
    "\n",
    "Emotion_labels_test.sum(axis=0).plot.bar()"
   ]
  },
  {
   "cell_type": "code",
   "execution_count": 197,
   "metadata": {},
   "outputs": [
    {
     "name": "stdout",
     "output_type": "stream",
     "text": [
      "   Joy  Sadness  anger  fear  Trust  Disgust  Surprise  Anticipation  \\\n",
      "0    1        0      1     0      0        0         0             0   \n",
      "1    0        0      0     0      1        1         1             0   \n",
      "2    1        0      1     0      0        0         0             0   \n",
      "3    0        0      0     0      1        0         1             0   \n",
      "4    0        0      0     1      0        0         0             0   \n",
      "\n",
      "   optimism  pessimism  love  \n",
      "0         0          0     0  \n",
      "1         0          0     0  \n",
      "2         0          0     0  \n",
      "3         0          0     0  \n",
      "4         0          0     0  \n"
     ]
    },
    {
     "data": {
      "text/plain": [
       "<AxesSubplot:>"
      ]
     },
     "execution_count": 197,
     "metadata": {},
     "output_type": "execute_result"
    },
    {
     "data": {
      "image/png": "[encoded data removed]",
      "text/plain": [
       "<Figure size 720x576 with 1 Axes>"
      ]
     },
     "metadata": {
      "needs_background": "light"
     },
     "output_type": "display_data"
    }
   ],
   "source": [
    "#Distribution of each of 11 emotion labels(Val):\n",
    "Emotion_labels_val = val_df[[\"Joy\",\"Sadness\",\"anger\",\"fear\",\"Trust\",\"Disgust\",\"Surprise\",\"Anticipation\",\"optimism\",\"pessimism\",\"love\"]]\n",
    "print(Emotion_labels_val.head())\n",
    "\n",
    "fig_size = plt.rcParams[\"figure.figsize\"]\n",
    "fig_size[0] = 10\n",
    "fig_size[1] = 8\n",
    "plt.rcParams[\"figure.figsize\"] = fig_size\n",
    "\n",
    "Emotion_labels_val.sum(axis=0).plot.bar()"
   ]
  },
  {
   "cell_type": "markdown",
   "metadata": {
    "colab_type": "text",
    "id": "I66cSE9CQVic"
   },
   "source": [
    "## 4. Data Preprocessing"
   ]
  },
  {
   "cell_type": "markdown",
   "metadata": {
    "colab_type": "text",
    "id": "P2thI3ivRyKU"
   },
   "source": [
    "This is the main part of the model. You need to perform the pre-processing as described in chapter 4 and 5 of the report. You can leave out complicated part such as POS tagging. Just see whatever steps you can include in reasonable time. The out of this step is each tweet converted into a list/tensor of numbers."
   ]
  },
  {
   "cell_type": "code",
   "execution_count": 198,
   "metadata": {},
   "outputs": [],
   "source": [
    "import re\n",
    "\n",
    "def decontracted(phrase):\n",
    "    # specific\n",
    "    phrase = re.sub(r\"won't\", \"will not\", phrase)\n",
    "    phrase = re.sub(r\"can\\'t\", \"can not\", phrase)\n",
    "\n",
    "    # general\n",
    "    phrase = re.sub(r\"n\\'t\", \" not\", phrase)\n",
    "    phrase = re.sub(r\"\\'re\", \" are\", phrase)\n",
    "    phrase = re.sub(r\"\\'s\", \" is\", phrase)\n",
    "    phrase = re.sub(r\"\\'d\", \" would\", phrase)\n",
    "    phrase = re.sub(r\"\\'ll\", \" will\", phrase)\n",
    "    phrase = re.sub(r\"\\'t\", \" not\", phrase)\n",
    "    phrase = re.sub(r\"\\'ve\", \" have\", phrase)\n",
    "    phrase = re.sub(r\"\\'m\", \" am\", phrase)\n",
    "    return phrase"
   ]
  },
  {
   "cell_type": "code",
   "execution_count": null,
   "metadata": {},
   "outputs": [],
   "source": []
  },
  {
   "cell_type": "code",
   "execution_count": 199,
   "metadata": {
    "colab": {},
    "colab_type": "code",
    "id": "iUsXDtFfTlxO"
   },
   "outputs": [],
   "source": [
    "from bs4 import BeautifulSoup\n",
    "\n",
    "\n",
    "def preprocess_reviews(tweets):\n",
    "    tweets = re.sub(\"http\\S+\", \"\",tweets.lower())\n",
    "    tweets = BeautifulSoup(tweets, 'lxml').get_text()\n",
    "    tweets = re.sub(\"[^A-Za-z]+\",\" \", tweets)\n",
    "    tweets = re.sub(\"\\S*\\d\\S*\", \"\" , tweets) \n",
    "    tweets = decontracted(tweets)\n",
    "    \n",
    "    \n",
    "    return tweets\n",
    "\n",
    "\n",
    "\n",
    "\n",
    "#target_train = reviews_train['Label']\n",
    "#target_test = reviews_test['Label']"
   ]
  },
  {
   "cell_type": "code",
   "execution_count": 200,
   "metadata": {},
   "outputs": [],
   "source": [
    "#tweets_train_clean = preprocess_reviews(train_df['Tweet Text'])\n",
    "train_df['Tweet Text'] = train_df['Tweet Text'].apply(preprocess_reviews)"
   ]
  },
  {
   "cell_type": "code",
   "execution_count": 201,
   "metadata": {},
   "outputs": [],
   "source": [
    "#tweets_test_clean = preprocess_reviews(test_df['Tweet Text'])\n",
    "test_df['Tweet Text'] = test_df['Tweet Text'].apply(preprocess_reviews)"
   ]
  },
  {
   "cell_type": "code",
   "execution_count": 202,
   "metadata": {},
   "outputs": [],
   "source": [
    "#tweets_val_clean = preprocess_reviews(val_df['Tweet Text'])\n",
    "val_df['Tweet Text'] = val_df['Tweet Text'].apply(preprocess_reviews)"
   ]
  },
  {
   "cell_type": "code",
   "execution_count": null,
   "metadata": {},
   "outputs": [],
   "source": []
  },
  {
   "cell_type": "code",
   "execution_count": 166,
   "metadata": {},
   "outputs": [
    {
     "name": "stderr",
     "output_type": "stream",
     "text": [
      "[nltk_data] Downloading package stopwords to\n",
      "[nltk_data]     C:\\Users\\SHUBHA\\AppData\\Roaming\\nltk_data...\n"
     ]
    },
    {
     "name": "stdout",
     "output_type": "stream",
     "text": [
      "['i', 'me', 'my', 'myself', 'we', 'our', 'ours', 'ourselves', 'you', \"you're\", \"you've\", \"you'll\", \"you'd\", 'your', 'yours', 'yourself', 'yourselves', 'he', 'him', 'his', 'himself', 'she', \"she's\", 'her', 'hers', 'herself', 'it', \"it's\", 'its', 'itself', 'they', 'them', 'their', 'theirs', 'themselves', 'what', 'which', 'who', 'whom', 'this', 'that', \"that'll\", 'these', 'those', 'am', 'is', 'are', 'was', 'were', 'be', 'been', 'being', 'have', 'has', 'had', 'having', 'do', 'does', 'did', 'doing', 'a', 'an', 'the', 'and', 'but', 'if', 'or', 'because', 'as', 'until', 'while', 'of', 'at', 'by', 'for', 'with', 'about', 'against', 'between', 'into', 'through', 'during', 'before', 'after', 'above', 'below', 'to', 'from', 'up', 'down', 'in', 'out', 'on', 'off', 'over', 'under', 'again', 'further', 'then', 'once', 'here', 'there', 'when', 'where', 'why', 'how', 'all', 'any', 'both', 'each', 'few', 'more', 'most', 'other', 'some', 'such', 'no', 'nor', 'not', 'only', 'own', 'same', 'so', 'than', 'too', 'very', 's', 't', 'can', 'will', 'just', 'don', \"don't\", 'should', \"should've\", 'now', 'd', 'll', 'm', 'o', 're', 've', 'y', 'ain', 'aren', \"aren't\", 'couldn', \"couldn't\", 'didn', \"didn't\", 'doesn', \"doesn't\", 'hadn', \"hadn't\", 'hasn', \"hasn't\", 'haven', \"haven't\", 'isn', \"isn't\", 'ma', 'mightn', \"mightn't\", 'mustn', \"mustn't\", 'needn', \"needn't\", 'shan', \"shan't\", 'shouldn', \"shouldn't\", 'wasn', \"wasn't\", 'weren', \"weren't\", 'won', \"won't\", 'wouldn', \"wouldn't\"]\n"
     ]
    },
    {
     "name": "stderr",
     "output_type": "stream",
     "text": [
      "[nltk_data]   Unzipping corpora\\stopwords.zip.\n"
     ]
    }
   ],
   "source": [
    "from nltk.corpus import stopwords\n",
    "nltk.download('stopwords')\n",
    "print(stopwords.words('english'))"
   ]
  },
  {
   "cell_type": "code",
   "execution_count": 203,
   "metadata": {},
   "outputs": [],
   "source": [
    "stopwords= set(['br', 'the', 'i', 'me', 'my', 'myself', 'we', 'our', 'ours', 'ourselves', 'you', \"you're\", \"you've\",\\\n",
    "            \"you'll\", \"you'd\", 'your', 'yours', 'yourself', 'yourselves', 'he', 'him', 'his', 'himself', \\\n",
    "            'she', \"she's\", 'her', 'hers', 'herself', 'it', \"it's\", 'its', 'itself', 'they', 'them', 'their',\\\n",
    "            'theirs', 'themselves', 'what', 'which', 'who', 'whom', 'this', 'that', \"that'll\", 'these', 'those', \\\n",
    "            'am', 'is', 'are', 'was', 'were', 'be', 'been', 'being', 'have', 'has', 'had', 'having', 'do', 'does', \\\n",
    "            'did', 'doing', 'a', 'an', 'the', 'and', 'but', 'if', 'or', 'because', 'as', 'until', 'while', 'of', \\\n",
    "            'at', 'by', 'for', 'with', 'about', 'against', 'between', 'into', 'through', 'during', 'before', 'after',\\\n",
    "            'above', 'below', 'to', 'from', 'up', 'down', 'in', 'out', 'on', 'off', 'over', 'under', 'again', 'further',\\\n",
    "            'then', 'once', 'here', 'there', 'when', 'where', 'why', 'how', 'all', 'any', 'both', 'each', 'few', 'more',\\\n",
    "            'most', 'other', 'some', 'such', 'only', 'own', 'same', 'so', 'than', 'too', 'very', \\\n",
    "            's', 't', 'can', 'will', 'just', 'don', \"don't\", 'should', \"should've\", 'now', 'd', 'll', 'm', 'o', 're', \\\n",
    "            've', 'y'])"
   ]
  },
  {
   "cell_type": "code",
   "execution_count": 204,
   "metadata": {},
   "outputs": [
    {
     "data": {
      "text/html": [
       "<div>\n",
       "<style scoped>\n",
       "    .dataframe tbody tr th:only-of-type {\n",
       "        vertical-align: middle;\n",
       "    }\n",
       "\n",
       "    .dataframe tbody tr th {\n",
       "        vertical-align: top;\n",
       "    }\n",
       "\n",
       "    .dataframe thead th {\n",
       "        text-align: right;\n",
       "    }\n",
       "</style>\n",
       "<table border=\"1\" class=\"dataframe\">\n",
       "  <thead>\n",
       "    <tr style=\"text-align: right;\">\n",
       "      <th></th>\n",
       "      <th>Tweet ID</th>\n",
       "      <th>Tweet Text</th>\n",
       "      <th>Joy</th>\n",
       "      <th>Sadness</th>\n",
       "      <th>anger</th>\n",
       "      <th>fear</th>\n",
       "      <th>Trust</th>\n",
       "      <th>Disgust</th>\n",
       "      <th>Surprise</th>\n",
       "      <th>Anticipation</th>\n",
       "      <th>optimism</th>\n",
       "      <th>pessimism</th>\n",
       "      <th>love</th>\n",
       "    </tr>\n",
       "  </thead>\n",
       "  <tbody>\n",
       "    <tr>\n",
       "      <th>0</th>\n",
       "      <td>2017-En-21441</td>\n",
       "      <td>worry payment problem may never joyce meyer mo...</td>\n",
       "      <td>0</td>\n",
       "      <td>1</td>\n",
       "      <td>0</td>\n",
       "      <td>0</td>\n",
       "      <td>0</td>\n",
       "      <td>0</td>\n",
       "      <td>1</td>\n",
       "      <td>0</td>\n",
       "      <td>0</td>\n",
       "      <td>0</td>\n",
       "      <td>1</td>\n",
       "    </tr>\n",
       "    <tr>\n",
       "      <th>1</th>\n",
       "      <td>2017-En-31535</td>\n",
       "      <td>whatever decide make sure makes happy</td>\n",
       "      <td>0</td>\n",
       "      <td>0</td>\n",
       "      <td>0</td>\n",
       "      <td>0</td>\n",
       "      <td>1</td>\n",
       "      <td>1</td>\n",
       "      <td>1</td>\n",
       "      <td>0</td>\n",
       "      <td>0</td>\n",
       "      <td>0</td>\n",
       "      <td>0</td>\n",
       "    </tr>\n",
       "    <tr>\n",
       "      <th>2</th>\n",
       "      <td>2017-En-21068</td>\n",
       "      <td>max kellerman also helps majority nfl coaching...</td>\n",
       "      <td>1</td>\n",
       "      <td>0</td>\n",
       "      <td>1</td>\n",
       "      <td>0</td>\n",
       "      <td>1</td>\n",
       "      <td>0</td>\n",
       "      <td>1</td>\n",
       "      <td>0</td>\n",
       "      <td>0</td>\n",
       "      <td>0</td>\n",
       "      <td>0</td>\n",
       "    </tr>\n",
       "    <tr>\n",
       "      <th>3</th>\n",
       "      <td>2017-En-31436</td>\n",
       "      <td>accept challenges literally even feel exhilara...</td>\n",
       "      <td>0</td>\n",
       "      <td>0</td>\n",
       "      <td>0</td>\n",
       "      <td>0</td>\n",
       "      <td>1</td>\n",
       "      <td>0</td>\n",
       "      <td>1</td>\n",
       "      <td>0</td>\n",
       "      <td>0</td>\n",
       "      <td>0</td>\n",
       "      <td>0</td>\n",
       "    </tr>\n",
       "    <tr>\n",
       "      <th>4</th>\n",
       "      <td>2017-En-22195</td>\n",
       "      <td>roommate okay spell autocorrect terrible first...</td>\n",
       "      <td>1</td>\n",
       "      <td>0</td>\n",
       "      <td>1</td>\n",
       "      <td>0</td>\n",
       "      <td>0</td>\n",
       "      <td>0</td>\n",
       "      <td>0</td>\n",
       "      <td>0</td>\n",
       "      <td>0</td>\n",
       "      <td>0</td>\n",
       "      <td>0</td>\n",
       "    </tr>\n",
       "  </tbody>\n",
       "</table>\n",
       "</div>"
      ],
      "text/plain": [
       "        Tweet ID                                         Tweet Text  Joy  \\\n",
       "0  2017-En-21441  worry payment problem may never joyce meyer mo...    0   \n",
       "1  2017-En-31535             whatever decide make sure makes happy     0   \n",
       "2  2017-En-21068  max kellerman also helps majority nfl coaching...    1   \n",
       "3  2017-En-31436  accept challenges literally even feel exhilara...    0   \n",
       "4  2017-En-22195  roommate okay spell autocorrect terrible first...    1   \n",
       "\n",
       "   Sadness  anger  fear  Trust  Disgust  Surprise  Anticipation  optimism  \\\n",
       "0        1      0     0      0        0         1             0         0   \n",
       "1        0      0     0      1        1         1             0         0   \n",
       "2        0      1     0      1        0         1             0         0   \n",
       "3        0      0     0      1        0         1             0         0   \n",
       "4        0      1     0      0        0         0             0         0   \n",
       "\n",
       "   pessimism  love  \n",
       "0          0     1  \n",
       "1          0     0  \n",
       "2          0     0  \n",
       "3          0     0  \n",
       "4          0     0  "
      ]
     },
     "execution_count": 204,
     "metadata": {},
     "output_type": "execute_result"
    }
   ],
   "source": [
    "#Removing Stop words\n",
    "\n",
    "def remove_stop_words(tweet):\n",
    "    rstop_words = \"\"\n",
    "    for word in tweet.split():\n",
    "        if not word in stopwords:\n",
    "            stop = word\n",
    "            rstop_words += word\n",
    "            rstop_words += \" \"\n",
    "            #rstop_words = rstop_words.strip()\n",
    "        \n",
    "    return rstop_words\n",
    "\n",
    "train_df['Tweet Text'] = train_df['Tweet Text'].apply(remove_stop_words)\n",
    "test_df['Tweet Text'] = test_df['Tweet Text'].apply(remove_stop_words)\n",
    "val_df['Tweet Text'] = val_df['Tweet Text'].apply(remove_stop_words)\n",
    "\n",
    "train_df.head()\n",
    "\n"
   ]
  },
  {
   "cell_type": "code",
   "execution_count": 205,
   "metadata": {},
   "outputs": [
    {
     "data": {
      "text/html": [
       "<div>\n",
       "<style scoped>\n",
       "    .dataframe tbody tr th:only-of-type {\n",
       "        vertical-align: middle;\n",
       "    }\n",
       "\n",
       "    .dataframe tbody tr th {\n",
       "        vertical-align: top;\n",
       "    }\n",
       "\n",
       "    .dataframe thead th {\n",
       "        text-align: right;\n",
       "    }\n",
       "</style>\n",
       "<table border=\"1\" class=\"dataframe\">\n",
       "  <thead>\n",
       "    <tr style=\"text-align: right;\">\n",
       "      <th></th>\n",
       "      <th>Tweet ID</th>\n",
       "      <th>Tweet Text</th>\n",
       "      <th>Joy</th>\n",
       "      <th>Sadness</th>\n",
       "      <th>anger</th>\n",
       "      <th>fear</th>\n",
       "      <th>Trust</th>\n",
       "      <th>Disgust</th>\n",
       "      <th>Surprise</th>\n",
       "      <th>Anticipation</th>\n",
       "      <th>optimism</th>\n",
       "      <th>pessimism</th>\n",
       "      <th>love</th>\n",
       "    </tr>\n",
       "  </thead>\n",
       "  <tbody>\n",
       "    <tr>\n",
       "      <th>0</th>\n",
       "      <td>2017-En-21441</td>\n",
       "      <td>worri payment problem may never joyc meyer mot...</td>\n",
       "      <td>0</td>\n",
       "      <td>1</td>\n",
       "      <td>0</td>\n",
       "      <td>0</td>\n",
       "      <td>0</td>\n",
       "      <td>0</td>\n",
       "      <td>1</td>\n",
       "      <td>0</td>\n",
       "      <td>0</td>\n",
       "      <td>0</td>\n",
       "      <td>1</td>\n",
       "    </tr>\n",
       "    <tr>\n",
       "      <th>1</th>\n",
       "      <td>2017-En-31535</td>\n",
       "      <td>whatev decid make sure make happi</td>\n",
       "      <td>0</td>\n",
       "      <td>0</td>\n",
       "      <td>0</td>\n",
       "      <td>0</td>\n",
       "      <td>1</td>\n",
       "      <td>1</td>\n",
       "      <td>1</td>\n",
       "      <td>0</td>\n",
       "      <td>0</td>\n",
       "      <td>0</td>\n",
       "      <td>0</td>\n",
       "    </tr>\n",
       "    <tr>\n",
       "      <th>2</th>\n",
       "      <td>2017-En-21068</td>\n",
       "      <td>max kellerman also help major nfl coach inept ...</td>\n",
       "      <td>1</td>\n",
       "      <td>0</td>\n",
       "      <td>1</td>\n",
       "      <td>0</td>\n",
       "      <td>1</td>\n",
       "      <td>0</td>\n",
       "      <td>1</td>\n",
       "      <td>0</td>\n",
       "      <td>0</td>\n",
       "      <td>0</td>\n",
       "      <td>0</td>\n",
       "    </tr>\n",
       "    <tr>\n",
       "      <th>3</th>\n",
       "      <td>2017-En-31436</td>\n",
       "      <td>accept challeng liter even feel exhilar victor...</td>\n",
       "      <td>0</td>\n",
       "      <td>0</td>\n",
       "      <td>0</td>\n",
       "      <td>0</td>\n",
       "      <td>1</td>\n",
       "      <td>0</td>\n",
       "      <td>1</td>\n",
       "      <td>0</td>\n",
       "      <td>0</td>\n",
       "      <td>0</td>\n",
       "      <td>0</td>\n",
       "    </tr>\n",
       "    <tr>\n",
       "      <th>4</th>\n",
       "      <td>2017-En-22195</td>\n",
       "      <td>roommat okay spell autocorrect terribl firstwo...</td>\n",
       "      <td>1</td>\n",
       "      <td>0</td>\n",
       "      <td>1</td>\n",
       "      <td>0</td>\n",
       "      <td>0</td>\n",
       "      <td>0</td>\n",
       "      <td>0</td>\n",
       "      <td>0</td>\n",
       "      <td>0</td>\n",
       "      <td>0</td>\n",
       "      <td>0</td>\n",
       "    </tr>\n",
       "  </tbody>\n",
       "</table>\n",
       "</div>"
      ],
      "text/plain": [
       "        Tweet ID                                         Tweet Text  Joy  \\\n",
       "0  2017-En-21441  worri payment problem may never joyc meyer mot...    0   \n",
       "1  2017-En-31535                 whatev decid make sure make happi     0   \n",
       "2  2017-En-21068  max kellerman also help major nfl coach inept ...    1   \n",
       "3  2017-En-31436  accept challeng liter even feel exhilar victor...    0   \n",
       "4  2017-En-22195  roommat okay spell autocorrect terribl firstwo...    1   \n",
       "\n",
       "   Sadness  anger  fear  Trust  Disgust  Surprise  Anticipation  optimism  \\\n",
       "0        1      0     0      0        0         1             0         0   \n",
       "1        0      0     0      1        1         1             0         0   \n",
       "2        0      1     0      1        0         1             0         0   \n",
       "3        0      0     0      1        0         1             0         0   \n",
       "4        0      1     0      0        0         0             0         0   \n",
       "\n",
       "   pessimism  love  \n",
       "0          0     1  \n",
       "1          0     0  \n",
       "2          0     0  \n",
       "3          0     0  \n",
       "4          0     0  "
      ]
     },
     "execution_count": 205,
     "metadata": {},
     "output_type": "execute_result"
    }
   ],
   "source": [
    "#Stemming\n",
    "from nltk.stem.snowball import SnowballStemmer\n",
    "\n",
    "stemmer = SnowballStemmer(\"english\")\n",
    "def stemming(sentence):\n",
    "    stemSentence = \"\"\n",
    "    for word in sentence.split():\n",
    "        stem = stemmer.stem(word)\n",
    "        stemSentence += stem\n",
    "        stemSentence += \" \"\n",
    "    #stemSentence = stemSentence.strip()\n",
    "    return stemSentence\n",
    "\n",
    "\n",
    "\n",
    "train_df['Tweet Text'] = train_df['Tweet Text'].apply(stemming)\n",
    "test_df['Tweet Text'] = test_df['Tweet Text'].apply(stemming)\n",
    "val_df['Tweet Text'] = val_df['Tweet Text'].apply(stemming)\n",
    "\n",
    "train_df.head()\n",
    "\n"
   ]
  },
  {
   "cell_type": "code",
   "execution_count": 206,
   "metadata": {},
   "outputs": [],
   "source": [
    "Lemmatization\n",
    "def get_lemmatized_text(corpus):\n",
    "    \n",
    "   from nltk.stem import WordNetLemmatizer\n",
    "  #  lemmatizer = WordNetLemmatizer()\n",
    "   # return [' '.join([lemmatizer.lemmatize(word) for word in tweet.split()]) for tweet in corpus]\n",
    "\n",
    "#tweets_train_clean = get_lemmatized_text(tweets_train_clean)\n",
    "#tweets_test_clean = get_lemmatized_text(tweets_test_clean)\n",
    "#tweets_val_clean = get_lemmatized_text(tweets_val_clean)\n",
    "\n"
   ]
  },
  {
   "cell_type": "code",
   "execution_count": 207,
   "metadata": {},
   "outputs": [],
   "source": [
    "categories = [\"Joy\",\"Sadness\",\"anger\",\"fear\",\"Trust\",\"Disgust\",\"Surprise\",\"Anticipation\",\"optimism\",\"pessimism\",\"love\"]"
   ]
  },
  {
   "cell_type": "code",
   "execution_count": 208,
   "metadata": {},
   "outputs": [],
   "source": [
    "train_text = train_df['Tweet Text']\n",
    "test_text = test_df['Tweet Text']\n",
    "val_text = val_df['Tweet Text']"
   ]
  },
  {
   "cell_type": "markdown",
   "metadata": {},
   "source": [
    "TFIDF"
   ]
  },
  {
   "cell_type": "code",
   "execution_count": 209,
   "metadata": {},
   "outputs": [
    {
     "data": {
      "text/plain": [
       "TfidfVectorizer(ngram_range=(1, 2), strip_accents='unicode')"
      ]
     },
     "execution_count": 209,
     "metadata": {},
     "output_type": "execute_result"
    }
   ],
   "source": [
    "from sklearn.feature_extraction.text import TfidfVectorizer\n",
    "vectorizer = TfidfVectorizer(strip_accents='unicode', analyzer='word', ngram_range=(1,2), norm='l2')\n",
    "vectorizer.fit(train_text)\n",
    "vectorizer.fit(test_text)\n",
    "vectorizer.fit(val_text)\n"
   ]
  },
  {
   "cell_type": "code",
   "execution_count": 210,
   "metadata": {},
   "outputs": [
    {
     "data": {
      "text/html": [
       "<div>\n",
       "<style scoped>\n",
       "    .dataframe tbody tr th:only-of-type {\n",
       "        vertical-align: middle;\n",
       "    }\n",
       "\n",
       "    .dataframe tbody tr th {\n",
       "        vertical-align: top;\n",
       "    }\n",
       "\n",
       "    .dataframe thead th {\n",
       "        text-align: right;\n",
       "    }\n",
       "</style>\n",
       "<table border=\"1\" class=\"dataframe\">\n",
       "  <thead>\n",
       "    <tr style=\"text-align: right;\">\n",
       "      <th></th>\n",
       "      <th>Tweet ID</th>\n",
       "      <th>Tweet Text</th>\n",
       "      <th>Joy</th>\n",
       "      <th>Sadness</th>\n",
       "      <th>anger</th>\n",
       "      <th>fear</th>\n",
       "      <th>Trust</th>\n",
       "      <th>Disgust</th>\n",
       "      <th>Surprise</th>\n",
       "      <th>Anticipation</th>\n",
       "      <th>optimism</th>\n",
       "      <th>pessimism</th>\n",
       "      <th>love</th>\n",
       "    </tr>\n",
       "  </thead>\n",
       "  <tbody>\n",
       "    <tr>\n",
       "      <th>0</th>\n",
       "      <td>2018-En-00866</td>\n",
       "      <td>ranaayyub rajnathsingh oh hidden reveng anger ...</td>\n",
       "      <td>1</td>\n",
       "      <td>0</td>\n",
       "      <td>1</td>\n",
       "      <td>0</td>\n",
       "      <td>0</td>\n",
       "      <td>0</td>\n",
       "      <td>0</td>\n",
       "      <td>0</td>\n",
       "      <td>0</td>\n",
       "      <td>0</td>\n",
       "      <td>0</td>\n",
       "    </tr>\n",
       "    <tr>\n",
       "      <th>1</th>\n",
       "      <td>2018-En-02590</td>\n",
       "      <td>make sure smile bro</td>\n",
       "      <td>0</td>\n",
       "      <td>0</td>\n",
       "      <td>0</td>\n",
       "      <td>0</td>\n",
       "      <td>1</td>\n",
       "      <td>1</td>\n",
       "      <td>1</td>\n",
       "      <td>0</td>\n",
       "      <td>0</td>\n",
       "      <td>0</td>\n",
       "      <td>0</td>\n",
       "    </tr>\n",
       "    <tr>\n",
       "      <th>2</th>\n",
       "      <td>2018-En-03361</td>\n",
       "      <td>not teamchristin bc tana done provok tweet sha...</td>\n",
       "      <td>1</td>\n",
       "      <td>0</td>\n",
       "      <td>1</td>\n",
       "      <td>0</td>\n",
       "      <td>0</td>\n",
       "      <td>0</td>\n",
       "      <td>0</td>\n",
       "      <td>0</td>\n",
       "      <td>0</td>\n",
       "      <td>0</td>\n",
       "      <td>0</td>\n",
       "    </tr>\n",
       "    <tr>\n",
       "      <th>3</th>\n",
       "      <td>2018-En-03230</td>\n",
       "      <td>great start beginn jump auto trade profit fx e...</td>\n",
       "      <td>0</td>\n",
       "      <td>0</td>\n",
       "      <td>0</td>\n",
       "      <td>0</td>\n",
       "      <td>1</td>\n",
       "      <td>0</td>\n",
       "      <td>1</td>\n",
       "      <td>0</td>\n",
       "      <td>0</td>\n",
       "      <td>0</td>\n",
       "      <td>0</td>\n",
       "    </tr>\n",
       "    <tr>\n",
       "      <th>4</th>\n",
       "      <td>2018-En-01143</td>\n",
       "      <td>best friend drive first time car terrifi</td>\n",
       "      <td>0</td>\n",
       "      <td>0</td>\n",
       "      <td>0</td>\n",
       "      <td>1</td>\n",
       "      <td>0</td>\n",
       "      <td>0</td>\n",
       "      <td>0</td>\n",
       "      <td>0</td>\n",
       "      <td>0</td>\n",
       "      <td>0</td>\n",
       "      <td>0</td>\n",
       "    </tr>\n",
       "  </tbody>\n",
       "</table>\n",
       "</div>"
      ],
      "text/plain": [
       "        Tweet ID                                         Tweet Text  Joy  \\\n",
       "0  2018-En-00866  ranaayyub rajnathsingh oh hidden reveng anger ...    1   \n",
       "1  2018-En-02590                               make sure smile bro     0   \n",
       "2  2018-En-03361  not teamchristin bc tana done provok tweet sha...    1   \n",
       "3  2018-En-03230  great start beginn jump auto trade profit fx e...    0   \n",
       "4  2018-En-01143          best friend drive first time car terrifi     0   \n",
       "\n",
       "   Sadness  anger  fear  Trust  Disgust  Surprise  Anticipation  optimism  \\\n",
       "0        0      1     0      0        0         0             0         0   \n",
       "1        0      0     0      1        1         1             0         0   \n",
       "2        0      1     0      0        0         0             0         0   \n",
       "3        0      0     0      1        0         1             0         0   \n",
       "4        0      0     1      0        0         0             0         0   \n",
       "\n",
       "   pessimism  love  \n",
       "0          0     0  \n",
       "1          0     0  \n",
       "2          0     0  \n",
       "3          0     0  \n",
       "4          0     0  "
      ]
     },
     "execution_count": 210,
     "metadata": {},
     "output_type": "execute_result"
    }
   ],
   "source": [
    "val_df.head()"
   ]
  },
  {
   "cell_type": "code",
   "execution_count": 211,
   "metadata": {},
   "outputs": [],
   "source": [
    "x_train = vectorizer.transform(train_text)\n",
    "y_train = train_df.drop(labels = ['Tweet ID','Tweet Text'], axis=1)\n",
    "\n",
    "x_test = vectorizer.transform(test_text)\n",
    "y_test = test_df.drop(labels = ['Tweet ID','Tweet Text'], axis=1)\n",
    "\n",
    "x_val = vectorizer.transform(val_text)\n",
    "y_val = val_df.drop(labels = ['Tweet ID','Tweet Text'], axis=1)\n",
    "\n",
    "\n"
   ]
  },
  {
   "cell_type": "markdown",
   "metadata": {
    "colab_type": "text",
    "id": "DLncKoA3QVoB"
   },
   "source": [
    "## 5. Naive Bayes Model"
   ]
  },
  {
   "cell_type": "markdown",
   "metadata": {
    "colab_type": "text",
    "id": "5NVKBJSES3XI"
   },
   "source": [
    "Naive bayes model from Scikit learn can be used directly on the preprocessed data. (https://scikit-learn.org/stable/modules/naive_bayes.html)"
   ]
  },
  {
   "cell_type": "markdown",
   "metadata": {
    "colab_type": "text",
    "id": "MmtadquFQVuU"
   },
   "source": [
    "## 6. Naive Bayes model training and evaluation"
   ]
  },
  {
   "cell_type": "code",
   "execution_count": 219,
   "metadata": {},
   "outputs": [
    {
     "name": "stdout",
     "output_type": "stream",
     "text": [
      "... Processing Joy\n",
      "Val accuracy is 0.7720090293453724\n",
      "Test accuracy is 0.7621969929426204\n",
      "              precision    recall  f1-score   support\n",
      "\n",
      "           0       0.75      0.97      0.84      2158\n",
      "           1       0.87      0.35      0.50      1101\n",
      "\n",
      "    accuracy                           0.76      3259\n",
      "   macro avg       0.81      0.66      0.67      3259\n",
      "weighted avg       0.79      0.76      0.73      3259\n",
      "\n",
      "... Processing Sadness\n",
      "Val accuracy is 0.8487584650112867\n",
      "Test accuracy is 0.8695918993556305\n",
      "              precision    recall  f1-score   support\n",
      "\n",
      "           0       0.87      1.00      0.93      2834\n",
      "           1       0.00      0.00      0.00       425\n",
      "\n",
      "    accuracy                           0.87      3259\n",
      "   macro avg       0.43      0.50      0.47      3259\n",
      "weighted avg       0.76      0.87      0.81      3259\n",
      "\n",
      "... Processing anger\n",
      "Val accuracy is 0.7460496613995485\n",
      "Test accuracy is 0.733046946916232\n",
      "              precision    recall  f1-score   support\n",
      "\n",
      "           0       0.73      0.96      0.83      2160\n",
      "           1       0.78      0.29      0.42      1099\n",
      "\n",
      "    accuracy                           0.73      3259\n",
      "   macro avg       0.75      0.62      0.63      3259\n",
      "weighted avg       0.74      0.73      0.69      3259\n",
      "\n",
      "... Processing fear\n",
      "Val accuracy is 0.863431151241535\n",
      "Test accuracy is 0.8576250383553237\n",
      "              precision    recall  f1-score   support\n",
      "\n",
      "           0       0.86      1.00      0.92      2774\n",
      "           1       1.00      0.04      0.08       485\n",
      "\n",
      "    accuracy                           0.86      3259\n",
      "   macro avg       0.93      0.52      0.50      3259\n",
      "weighted avg       0.88      0.86      0.80      3259\n",
      "\n",
      "... Processing Trust\n",
      "Val accuracy is 0.7708803611738149\n",
      "Test accuracy is 0.7419453820190243\n",
      "              precision    recall  f1-score   support\n",
      "\n",
      "           0       0.69      0.98      0.81      1817\n",
      "           1       0.96      0.44      0.60      1442\n",
      "\n",
      "    accuracy                           0.74      3259\n",
      "   macro avg       0.82      0.71      0.70      3259\n",
      "weighted avg       0.81      0.74      0.72      3259\n",
      "\n",
      "... Processing Disgust\n",
      "Val accuracy is 0.8589164785553047\n",
      "Test accuracy is 0.8435102792267567\n",
      "              precision    recall  f1-score   support\n",
      "\n",
      "           0       0.84      1.00      0.91      2743\n",
      "           1       0.88      0.01      0.03       516\n",
      "\n",
      "    accuracy                           0.84      3259\n",
      "   macro avg       0.86      0.51      0.47      3259\n",
      "weighted avg       0.85      0.84      0.77      3259\n",
      "\n",
      "... Processing Surprise\n",
      "Val accuracy is 0.7257336343115124\n",
      "Test accuracy is 0.6851795029150046\n",
      "              precision    recall  f1-score   support\n",
      "\n",
      "           0       0.68      0.99      0.80      2116\n",
      "           1       0.88      0.12      0.21      1143\n",
      "\n",
      "    accuracy                           0.69      3259\n",
      "   macro avg       0.78      0.55      0.51      3259\n",
      "weighted avg       0.75      0.69      0.59      3259\n",
      "\n",
      "... Processing Anticipation\n",
      "Val accuracy is 0.8781038374717833\n",
      "Test accuracy is 0.8849340288432035\n",
      "              precision    recall  f1-score   support\n",
      "\n",
      "           0       0.88      1.00      0.94      2884\n",
      "           1       0.00      0.00      0.00       375\n",
      "\n",
      "    accuracy                           0.88      3259\n",
      "   macro avg       0.44      0.50      0.47      3259\n",
      "weighted avg       0.78      0.88      0.83      3259\n",
      "\n",
      "... Processing optimism\n",
      "Val accuracy is 0.7212189616252822\n",
      "Test accuracy is 0.7278306228904572\n",
      "              precision    recall  f1-score   support\n",
      "\n",
      "           0       0.72      1.00      0.84      2299\n",
      "           1       0.95      0.08      0.15       960\n",
      "\n",
      "    accuracy                           0.73      3259\n",
      "   macro avg       0.84      0.54      0.49      3259\n",
      "weighted avg       0.79      0.73      0.63      3259\n",
      "\n",
      "... Processing pessimism\n",
      "Val accuracy is 0.9582392776523702\n",
      "Test accuracy is 0.9478367597422522\n",
      "              precision    recall  f1-score   support\n",
      "\n",
      "           0       0.95      1.00      0.97      3089\n",
      "           1       0.00      0.00      0.00       170\n",
      "\n",
      "    accuracy                           0.95      3259\n",
      "   macro avg       0.47      0.50      0.49      3259\n",
      "weighted avg       0.90      0.95      0.92      3259\n",
      "\n",
      "... Processing love\n",
      "Val accuracy is 0.9492099322799097\n",
      "Test accuracy is 0.953053083768027\n",
      "              precision    recall  f1-score   support\n",
      "\n",
      "           0       0.95      1.00      0.98      3106\n",
      "           1       0.00      0.00      0.00       153\n",
      "\n",
      "    accuracy                           0.95      3259\n",
      "   macro avg       0.48      0.50      0.49      3259\n",
      "weighted avg       0.91      0.95      0.93      3259\n",
      "\n"
     ]
    },
    {
     "name": "stderr",
     "output_type": "stream",
     "text": [
      "C:\\Users\\SHUBHA\\anaconda3\\lib\\site-packages\\sklearn\\metrics\\_classification.py:1248: UndefinedMetricWarning: Precision and F-score are ill-defined and being set to 0.0 in labels with no predicted samples. Use `zero_division` parameter to control this behavior.\n",
      "  _warn_prf(average, modifier, msg_start, len(result))\n",
      "C:\\Users\\SHUBHA\\anaconda3\\lib\\site-packages\\sklearn\\metrics\\_classification.py:1248: UndefinedMetricWarning: Precision and F-score are ill-defined and being set to 0.0 in labels with no predicted samples. Use `zero_division` parameter to control this behavior.\n",
      "  _warn_prf(average, modifier, msg_start, len(result))\n",
      "C:\\Users\\SHUBHA\\anaconda3\\lib\\site-packages\\sklearn\\metrics\\_classification.py:1248: UndefinedMetricWarning: Precision and F-score are ill-defined and being set to 0.0 in labels with no predicted samples. Use `zero_division` parameter to control this behavior.\n",
      "  _warn_prf(average, modifier, msg_start, len(result))\n",
      "C:\\Users\\SHUBHA\\anaconda3\\lib\\site-packages\\sklearn\\metrics\\_classification.py:1248: UndefinedMetricWarning: Precision and F-score are ill-defined and being set to 0.0 in labels with no predicted samples. Use `zero_division` parameter to control this behavior.\n",
      "  _warn_prf(average, modifier, msg_start, len(result))\n",
      "C:\\Users\\SHUBHA\\anaconda3\\lib\\site-packages\\sklearn\\metrics\\_classification.py:1248: UndefinedMetricWarning: Precision and F-score are ill-defined and being set to 0.0 in labels with no predicted samples. Use `zero_division` parameter to control this behavior.\n",
      "  _warn_prf(average, modifier, msg_start, len(result))\n",
      "C:\\Users\\SHUBHA\\anaconda3\\lib\\site-packages\\sklearn\\metrics\\_classification.py:1248: UndefinedMetricWarning: Precision and F-score are ill-defined and being set to 0.0 in labels with no predicted samples. Use `zero_division` parameter to control this behavior.\n",
      "  _warn_prf(average, modifier, msg_start, len(result))\n",
      "C:\\Users\\SHUBHA\\anaconda3\\lib\\site-packages\\sklearn\\metrics\\_classification.py:1248: UndefinedMetricWarning: Precision and F-score are ill-defined and being set to 0.0 in labels with no predicted samples. Use `zero_division` parameter to control this behavior.\n",
      "  _warn_prf(average, modifier, msg_start, len(result))\n",
      "C:\\Users\\SHUBHA\\anaconda3\\lib\\site-packages\\sklearn\\metrics\\_classification.py:1248: UndefinedMetricWarning: Precision and F-score are ill-defined and being set to 0.0 in labels with no predicted samples. Use `zero_division` parameter to control this behavior.\n",
      "  _warn_prf(average, modifier, msg_start, len(result))\n",
      "C:\\Users\\SHUBHA\\anaconda3\\lib\\site-packages\\sklearn\\metrics\\_classification.py:1248: UndefinedMetricWarning: Precision and F-score are ill-defined and being set to 0.0 in labels with no predicted samples. Use `zero_division` parameter to control this behavior.\n",
      "  _warn_prf(average, modifier, msg_start, len(result))\n",
      "C:\\Users\\SHUBHA\\anaconda3\\lib\\site-packages\\sklearn\\metrics\\_classification.py:1248: UndefinedMetricWarning: Precision and F-score are ill-defined and being set to 0.0 in labels with no predicted samples. Use `zero_division` parameter to control this behavior.\n",
      "  _warn_prf(average, modifier, msg_start, len(result))\n",
      "C:\\Users\\SHUBHA\\anaconda3\\lib\\site-packages\\sklearn\\metrics\\_classification.py:1248: UndefinedMetricWarning: Precision and F-score are ill-defined and being set to 0.0 in labels with no predicted samples. Use `zero_division` parameter to control this behavior.\n",
      "  _warn_prf(average, modifier, msg_start, len(result))\n",
      "C:\\Users\\SHUBHA\\anaconda3\\lib\\site-packages\\sklearn\\metrics\\_classification.py:1248: UndefinedMetricWarning: Precision and F-score are ill-defined and being set to 0.0 in labels with no predicted samples. Use `zero_division` parameter to control this behavior.\n",
      "  _warn_prf(average, modifier, msg_start, len(result))\n"
     ]
    }
   ],
   "source": [
    "# Define a pipeline combining a text feature extractor with multi lable classifier\n",
    "from sklearn.multiclass import OneVsRestClassifier\n",
    "from sklearn.naive_bayes import MultinomialNB\n",
    "from sklearn.metrics import accuracy_score\n",
    "from sklearn.metrics import roc_auc_score,roc_curve,classification_report,confusion_matrix,plot_confusion_matrix\n",
    "\n",
    "\n",
    "clf = MultinomialNB()\n",
    "\n",
    "# predict the outcome for testing data\n",
    "                       \n",
    "                        \n",
    "for category in categories:\n",
    "    print('... Processing {}'.format(category))\n",
    "    # train the model using X_dtm & y\n",
    "    clf.fit(x_train, train_df[category])\n",
    "    # compute the testing accuracy\n",
    "    prediction = clf.predict(x_val)\n",
    "    print('Val accuracy is {}'.format(accuracy_score(val_df[category], prediction)))\n",
    "    #print(classification_report(val_df[category],prediction))\n",
    "    \n",
    "    prediction = clf.predict(x_test)\n",
    "    print('Test accuracy is {}'.format(accuracy_score(test_df[category], prediction)))\n",
    "    #print(classification_report(test_df[category],prediction))\n",
    "\n",
    "    \n",
    "  "
   ]
  },
  {
   "cell_type": "markdown",
   "metadata": {},
   "source": [
    "## 7. Support Vector Machine (SVM)\n"
   ]
  },
  {
   "cell_type": "markdown",
   "metadata": {
    "colab_type": "text",
    "id": "cMHH-w3wTRTW"
   },
   "source": [
    "Scikit learn has a SVM model, which can be directly used (https://scikit-learn.org/stable/modules/svm.html)."
   ]
  },
  {
   "cell_type": "markdown",
   "metadata": {
    "colab_type": "text",
    "id": "L_kIl9NAQV4V"
   },
   "source": [
    "## 8. SVM training and evaluation"
   ]
  },
  {
   "cell_type": "code",
   "execution_count": 213,
   "metadata": {},
   "outputs": [
    {
     "name": "stdout",
     "output_type": "stream",
     "text": [
      "... Processing Joy\n",
      "Val accuracy is 0.7776523702031602\n",
      "Test accuracy is 0.7953359926357778\n",
      "... Processing Sadness\n",
      "Val accuracy is 0.8611738148984198\n",
      "Test accuracy is 0.8493402884320344\n",
      "... Processing anger\n",
      "Val accuracy is 0.7392776523702032\n",
      "Test accuracy is 0.7551396133783369\n",
      "... Processing fear\n",
      "Val accuracy is 0.8984198645598194\n",
      "Test accuracy is 0.9091745934335685\n",
      "... Processing Trust\n",
      "Val accuracy is 0.755079006772009\n",
      "Test accuracy is 0.8063823258668303\n",
      "... Processing Disgust\n",
      "Val accuracy is 0.8679458239277652\n",
      "Test accuracy is 0.8683645289966248\n",
      "... Processing Surprise\n",
      "Val accuracy is 0.7370203160270881\n",
      "Test accuracy is 0.7404111690702669\n",
      "... Processing Anticipation\n",
      "Val accuracy is 0.8848758465011287\n",
      "Test accuracy is 0.8815587603559374\n",
      "... Processing optimism\n",
      "Val accuracy is 0.7618510158013544\n",
      "Test accuracy is 0.7821417612764652\n",
      "... Processing pessimism\n",
      "Val accuracy is 0.9593679458239278\n",
      "Test accuracy is 0.9441546486652347\n",
      "... Processing love\n",
      "Val accuracy is 0.9514672686230248\n",
      "Test accuracy is 0.9502915004602639\n"
     ]
    }
   ],
   "source": [
    "#Fitting SVM to training set\n",
    "from sklearn.svm import LinearSVC\n",
    "\n",
    "svm = LinearSVC()\n",
    "\n",
    "# predict the outcome for testing data\n",
    "                       \n",
    "    \n",
    "for category in categories:\n",
    "    print('... Processing {}'.format(category))\n",
    "    # train the model using X_train & y\n",
    "    svm.fit(x_train, train_df[category])\n",
    "    # compute the testing accuracy\n",
    "    prediction = svm.predict(x_val)\n",
    "    print('Val accuracy is {}'.format(accuracy_score(val_df[category], prediction)))\n",
    "    #print(classification_report(val_df[category],prediction))\n",
    "    \n",
    "    prediction = svm.predict(x_test)\n",
    "    print('Test accuracy is {}'.format(accuracy_score(test_df[category], prediction)))\n",
    "    \n",
    "    #print(classification_report(test_df[category],prediction))\n"
   ]
  },
  {
   "cell_type": "code",
   "execution_count": 214,
   "metadata": {},
   "outputs": [
    {
     "name": "stdout",
     "output_type": "stream",
     "text": [
      "... Processing Joy\n",
      "Val accuracy is 0.7415349887133182\n",
      "Test accuracy is 0.7980975759435409\n",
      "... Processing Sadness\n",
      "Val accuracy is 0.8600451467268623\n",
      "Test accuracy is 0.869898741945382\n",
      "... Processing anger\n",
      "Val accuracy is 0.7279909706546276\n",
      "Test accuracy is 0.7643448910708807\n",
      "... Processing fear\n",
      "Val accuracy is 0.8803611738148984\n",
      "Test accuracy is 0.8996624731512733\n",
      "... Processing Trust\n",
      "Val accuracy is 0.7099322799097065\n",
      "Test accuracy is 0.7962565204050323\n",
      "... Processing Disgust\n",
      "Val accuracy is 0.8544018058690744\n",
      "Test accuracy is 0.8695918993556305\n",
      "... Processing Surprise\n",
      "Val accuracy is 0.7144469525959368\n",
      "Test accuracy is 0.74317275237803\n",
      "... Processing Anticipation\n",
      "Val accuracy is 0.8860045146726863\n",
      "Test accuracy is 0.8852408714329549\n",
      "... Processing optimism\n",
      "Val accuracy is 0.7528216704288939\n",
      "Test accuracy is 0.7845965019944768\n",
      "... Processing pessimism\n",
      "Val accuracy is 0.9604966139954854\n",
      "Test accuracy is 0.949064130101258\n",
      "... Processing love\n",
      "Val accuracy is 0.9514672686230248\n",
      "Test accuracy is 0.953053083768027\n"
     ]
    }
   ],
   "source": [
    "#Fitting Logistic Regression to training set\n",
    "from sklearn.linear_model import LogisticRegression\n",
    "\n",
    "\n",
    "lr = LogisticRegression()\n",
    "\n",
    "\n",
    "# predict the outcome for testing data\n",
    "                       \n",
    "    \n",
    "for category in categories:\n",
    "    print('... Processing {}'.format(category))\n",
    "    # train the model using X_train & y\n",
    "    lr.fit(x_train, train_df[category])\n",
    "    # compute the testing accuracy\n",
    "    prediction = lr.predict(x_val)\n",
    "    print('Val accuracy is {}'.format(accuracy_score(val_df[category], prediction)))\n",
    "    #print(classification_report(val_df[category],prediction))\n",
    "    \n",
    "    prediction = lr.predict(x_test)\n",
    "    print('Test accuracy is {}'.format(accuracy_score(test_df[category], prediction)))\n",
    "    #print(classification_report(test_df[category],prediction))\n"
   ]
  },
  {
   "cell_type": "code",
   "execution_count": 215,
   "metadata": {},
   "outputs": [],
   "source": [
    "# The three classifiers produced similar results"
   ]
  },
  {
   "cell_type": "code",
   "execution_count": null,
   "metadata": {},
   "outputs": [],
   "source": []
  }
 ],
 "metadata": {
  "celltoolbar": "Raw Cell Format",
  "colab": {
   "name": "Untitled",
   "provenance": []
  },
  "kernelspec": {
   "display_name": "Python 3 (ipykernel)",
   "language": "python",
   "name": "python3"
  },
  "language_info": {
   "codemirror_mode": {
    "name": "ipython",
    "version": 3
   },
   "file_extension": ".py",
   "mimetype": "text/x-python",
   "name": "python",
   "nbconvert_exporter": "python",
   "pygments_lexer": "ipython3",
   "version": "3.9.7"
  }
 },
 "nbformat": 4,
 "nbformat_minor": 1
}
